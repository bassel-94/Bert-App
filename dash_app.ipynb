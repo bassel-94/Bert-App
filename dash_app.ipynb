{
  "nbformat": 4,
  "nbformat_minor": 0,
  "metadata": {
    "colab": {
      "name": "dash_app.ipynb",
      "provenance": [],
      "collapsed_sections": [],
      "mount_file_id": "1s2mLFGMQPFg0L_rutILhxn-6QKmOkvNE",
      "authorship_tag": "ABX9TyN4QYASAJNN7eegSmV87hzC",
      "include_colab_link": true
    },
    "kernelspec": {
      "name": "python3",
      "display_name": "Python 3"
    },
    "language_info": {
      "name": "python"
    }
  },
  "cells": [
    {
      "cell_type": "markdown",
      "metadata": {
        "id": "view-in-github",
        "colab_type": "text"
      },
      "source": [
        "<a href=\"https://colab.research.google.com/github/bassel-94/Bert-App/blob/main/dash_app.ipynb\" target=\"_parent\"><img src=\"https://colab.research.google.com/assets/colab-badge.svg\" alt=\"Open In Colab\"/></a>"
      ]
    },
    {
      "cell_type": "markdown",
      "metadata": {
        "id": "SZ7gI7R5GC7Z"
      },
      "source": [
        "# Dash Flask test"
      ]
    },
    {
      "cell_type": "code",
      "metadata": {
        "collapsed": true,
        "id": "Jlcr0rceRmce"
      },
      "source": [
        "# mount google drive storage\n",
        "from google.colab import drive\n",
        "drive.mount('/content/drive')\n",
        "\n",
        "# create temporary file for results\n",
        "!mkdir results\n",
        "\n",
        "# unzip from google drive to the created temperary file\n",
        "!unzip /content/drive/MyDrive/results_V8_light.zip -d results\n",
        "\n",
        "# install libraries\n",
        "!pip install fast_bert hydra-core omegaconf jupyter-dash\n",
        "!pip install -q jupyter-dash==0.3.0rc1 dash-bootstrap-components"
      ],
      "execution_count": null,
      "outputs": []
    },
    {
      "cell_type": "code",
      "metadata": {
        "id": "8wmObO2XaMAc",
        "collapsed": true
      },
      "source": [
        "import warnings\n",
        "warnings.filterwarnings(\"ignore\")\n",
        "\n",
        "import time\n",
        "import dash\n",
        "import dash_html_components as html\n",
        "import dash_core_components as dcc\n",
        "import dash_bootstrap_components as dbc\n",
        "from dash.dependencies import Input, Output, State\n",
        "from jupyter_dash import JupyterDash\n",
        "import plotly.graph_objects as go\n",
        "import plotly.express as px\n",
        "import pandas as pd\n",
        "\n",
        "# import prediction class from fast bert\n",
        "from fast_bert.prediction import BertClassificationPredictor\n",
        "\n",
        "# import tokenizer and pipeline for sentiment analysis\n",
        "from transformers import AutoTokenizer, TFAutoModelForSequenceClassification, pipeline\n",
        "\n",
        "# define predictor class\n",
        "predictor = BertClassificationPredictor(\n",
        "                model_path='results/finetuned_model/model_out',\n",
        "                label_path='results/labels/',\n",
        "                multi_label=True,\n",
        "                model_type='camembert-base',\n",
        "                do_lower_case=False)\n",
        "\n",
        "# load sentiment analyzer\n",
        "tokenizer = AutoTokenizer.from_pretrained(\"tblard/tf-allocine\")\n",
        "model = TFAutoModelForSequenceClassification.from_pretrained(\"tblard/tf-allocine\")\n",
        "predict_sentiment = pipeline('sentiment-analysis', model=model, tokenizer=tokenizer)"
      ],
      "execution_count": null,
      "outputs": []
    },
    {
      "cell_type": "code",
      "metadata": {
        "id": "el-md_2P5USa"
      },
      "source": [
        "# Define app\n",
        "app = JupyterDash(__name__, external_stylesheets=[dbc.themes.BOOTSTRAP])\n",
        "server = app.server\n",
        "\n",
        "# define go figure here and get rid of axis\n",
        "fig1 = go.Figure()\n",
        "fig2 = go.Figure()\n",
        "fig1.update_layout(paper_bgcolor='white', plot_bgcolor='white', \n",
        "                   yaxis={'visible': False, 'showticklabels': False}, \n",
        "                   xaxis={'visible': False, 'showticklabels': False})\n",
        "fig2.update_layout(paper_bgcolor='white', plot_bgcolor='white', \n",
        "                   yaxis={'visible': False, 'showticklabels': False}, \n",
        "                   xaxis={'visible': False, 'showticklabels': False})\n",
        "\n",
        "# Define Layout\n",
        "app.layout = dbc.Container(\n",
        "    fluid=True,\n",
        "    children=[\n",
        "              html.H1(\"BERT App test for multilabel classification!\", style={'textAlign': 'center'}),\n",
        "              html.Hr(),\n",
        "              dbc.Row([dbc.Col(\n",
        "                  width=4,\n",
        "                  children=[dbc.Card(\n",
        "                      body=True,\n",
        "                      children=[dbc.FormGroup([\n",
        "                                               dbc.Label(\"Qu'en pensez-vous de Groupama?\"),\n",
        "                                               dcc.Textarea(id=\"original-text\", style={\"width\": \"100%\", \"height\": \"20vh\"})]),\n",
        "                                dbc.FormGroup([\n",
        "                                               dbc.Spinner([\n",
        "                                                            dbc.Button(\"Get labels\", id=\"button-run\"),\n",
        "                                                            html.Div(id=\"time-taken\")])\n",
        "                                               ])]\n",
        "                                     )]\n",
        "                    ),\n",
        "                    dbc.Col(dbc.Card(\n",
        "                        children=[dcc.Graph(id=\"label-graph\", figure = fig1, style={\"height\": \"400px\"}),\n",
        "                                  dcc.Graph(id = \"sentiment-graph\", figure=fig2)]),\n",
        "                            md=7)\n",
        "            ]),\n",
        "    ],\n",
        ")\n",
        "\n",
        "@app.callback(\n",
        "    [Output(\"label-graph\", \"figure\"),\n",
        "     Output(\"sentiment-graph\", \"figure\"),\n",
        "     Output(\"time-taken\", \"children\")],\n",
        "     [Input(\"button-run\", \"n_clicks\")],\n",
        "    [State(\"original-text\", \"value\")])\n",
        "\n",
        "def get_labels(n_clicks, original_text):\n",
        "  \n",
        "#  if original_text is None or original_text == \"\":\n",
        "#    return fig1, fig1, \"Did not run.\"\n",
        "  \n",
        "  # get starting runtime\n",
        "  t0 = time.time()\n",
        "  \n",
        "  # get predictions and save to lists\n",
        "  pred = predictor.predict(original_text)\n",
        "  l, p = [], []\n",
        "  \n",
        "  for label, proba in pred:\n",
        "    if proba >= 0.5:\n",
        "      l.append(label)\n",
        "      p.append(round(proba,2))\n",
        "  \n",
        "  # put results in a data frame\n",
        "  df = pd.DataFrame({\"labels\":l, \"probs\":p})\n",
        "  fig1 = go.Figure()\n",
        "  fig2 = go.Figure()\n",
        "\n",
        "  # plot the graph\n",
        "  fig1.add_trace(go.Bar(x = df.loc[:, \"probs\"],\n",
        "                        y = df.loc[:, \"labels\"],\n",
        "                        text = df.loc[:, \"probs\"],\n",
        "                        textposition='auto',\n",
        "                        orientation='h'))\n",
        "\n",
        "  # customize the graph\n",
        "  fig1.update_layout(autosize=True,\n",
        "                     paper_bgcolor='white', \n",
        "                     plot_bgcolor='white',\n",
        "                     xaxis_title=\"Probabilité\",\n",
        "                     yaxis_title=\"Label(s) détecté(s)\",\n",
        "                     title={'text': \"Label(s) prédits en fonction de la probabilité\", 'x':0.5, 'xanchor': 'center', 'yanchor': 'top'})\n",
        "  \n",
        "  fig1.update_traces(marker_color='steelblue', marker_line_color='rgb(8,48,107)', marker_line_width=1.5, opacity=0.7, width = 0.5)\n",
        "  fig1.update_xaxes(showgrid=True, gridwidth=1, gridcolor='LightGrey', zeroline=True, zerolinewidth=2, zerolinecolor='LightGrey')\n",
        "  fig1.update_yaxes(showgrid=True, gridwidth=1, gridcolor='LightGrey')\n",
        "  \n",
        "  # get sentiment prediction\n",
        "  sent = predict_sentiment(original_text)[0]\n",
        "  pred_label = sent[\"label\"]           # extracts the value of the key \"label\"\n",
        "  pred_proba = sent[\"score\"]           # extract the value of the key \"score\"\n",
        "\n",
        "  # get sentiment gauge\n",
        "  if pred_label == \"POSITIVE\":\n",
        "    color = \"limegreen\"\n",
        "  else:\n",
        "    color = \"red\"\n",
        "    \n",
        "  fig2.add_trace(go.Indicator(\n",
        "        mode = \"gauge+number\",\n",
        "        value = round(pred_proba*100, 2),\n",
        "        number = {'suffix': \"%\", 'font': {'size': 30}},\n",
        "        domain = {'x': [0, 1], 'y': [0, 1]},\n",
        "        title = {'text': '<b>'+pred_label+'</b>', 'font': {'size': 14}},\n",
        "        gauge = {'axis': {'range': [0, 100]}, 'bar': {'color': color}}))\n",
        "\n",
        "  # get finish time and compute difference\n",
        "  t1 = time.time()\n",
        "  time_taken = f\"It took {t1-t0:.2f} seconds to compute labels and sentiment\"\n",
        "  \n",
        "  return fig1, fig2, time_taken"
      ],
      "execution_count": null,
      "outputs": []
    },
    {
      "cell_type": "code",
      "metadata": {
        "id": "P1FiwsAH5Xin",
        "colab": {
          "base_uri": "https://localhost:8080/",
          "height": 51
        },
        "outputId": "14fe356e-dae4-46b9-9eac-3eb2890f3884"
      },
      "source": [
        "app.run_server(mode='external')"
      ],
      "execution_count": null,
      "outputs": [
        {
          "output_type": "stream",
          "text": [
            "Dash app running on:\n"
          ],
          "name": "stdout"
        },
        {
          "output_type": "display_data",
          "data": {
            "application/javascript": [
              "(async (port, path, text, element) => {\n",
              "    if (!google.colab.kernel.accessAllowed) {\n",
              "      return;\n",
              "    }\n",
              "    element.appendChild(document.createTextNode(''));\n",
              "    const url = await google.colab.kernel.proxyPort(port);\n",
              "    const anchor = document.createElement('a');\n",
              "    anchor.href = new URL(path, url).toString();\n",
              "    anchor.target = '_blank';\n",
              "    anchor.setAttribute('data-href', url + path);\n",
              "    anchor.textContent = text;\n",
              "    element.appendChild(anchor);\n",
              "  })(8050, \"/\", \"http://127.0.0.1:8050/\", window.element)"
            ],
            "text/plain": [
              "<IPython.core.display.Javascript object>"
            ]
          },
          "metadata": {
            "tags": []
          }
        }
      ]
    }
  ]
}